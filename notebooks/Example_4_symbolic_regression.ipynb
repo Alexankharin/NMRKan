{
 "cells": [
  {
   "cell_type": "markdown",
   "id": "134e7f9d",
   "metadata": {},
   "source": [
    "# Example 4: Symbolic Regression"
   ]
  },
  {
   "cell_type": "markdown",
   "id": "2571d531",
   "metadata": {},
   "source": [
    "The symbolic space is very dense, which means getting the correct symbolic formula (if existing at all) is a hard task. We will show how sentitive symbolic regression is, especially in the presence of noise. This is good or bad:\n",
    "\n",
    "**Good**: One can easily find symbolic formulas that match with data quite well (within some tolerable epsilon). When one does not care about the exact symbolic formula, they might be happy with these approximate symbolic formulas that fit their data well. These approximate symbolic formulas provide some level of insight, have predictive power and are easy to compute.\n",
    "\n",
    "**Bad**: It's hard to find the exact formula. When one does care about the exact formula, we either care about (i) its generalizability in future cases (like Newton's gravity), or (ii) fitting the clean data or solving a PDE as precise as machine precision. For case (i), it is open-ended and requires case-by-case analysis. For case (ii), we can get a (hopefully) clear signal of the correctness of a symbolic formula by noticing the loss to go down to near machine precision. We will use an example to demonstrate this below."
   ]
  },
  {
   "cell_type": "markdown",
   "id": "7c308c65",
   "metadata": {},
   "source": [
    "## Part I: Automated vs manual symbolic regression (How can we know that we get the exact formula?)"
   ]
  },
  {
   "cell_type": "code",
   "execution_count": 20,
   "id": "2075ef56",
   "metadata": {},
   "outputs": [
    {
     "data": {
      "text/plain": [
       "(torch.Size([1000, 2]), torch.Size([1000, 1]))"
      ]
     },
     "execution_count": 20,
     "metadata": {},
     "output_type": "execute_result"
    }
   ],
   "source": [
    "from kan import *\n",
    "# create a KAN: 2D inputs, 1D output, and 5 hidden neurons. cubic spline (k=3), 5 grid intervals (grid=5).\n",
    "model = KAN(width=[2,5,1], grid=5, k=3, seed=0)\n",
    "\n",
    "# create dataset f(x,y) = exp(sin(pi*x)+y^2)\n",
    "f = lambda x: torch.exp(torch.sin(torch.pi*x[:,[0]]) + x[:,[1]]**2)\n",
    "dataset = create_dataset(f, n_var=2)\n",
    "dataset['train_input'].shape, dataset['train_label'].shape"
   ]
  },
  {
   "cell_type": "code",
   "execution_count": 21,
   "id": "8aa1966d",
   "metadata": {},
   "outputs": [
    {
     "name": "stderr",
     "output_type": "stream",
     "text": [
      "train loss: 1.18e-01 | test loss: 1.24e-01 | reg: 2.69e+01 : 100%|██| 40/40 [00:14<00:00,  2.78it/s]\n"
     ]
    }
   ],
   "source": [
    "# train the model\n",
    "model.train(dataset, opt=\"LBFGS\", steps=40, lamb=0.01, lamb_entropy=10.);"
   ]
  },
  {
   "cell_type": "code",
   "execution_count": 22,
   "id": "943d9182",
   "metadata": {},
   "outputs": [
    {
     "data": {
      "image/png": "[encoded data removed]",
      "text/plain": [
       "<Figure size 500x400 with 4 Axes>"
      ]
     },
     "metadata": {},
     "output_type": "display_data"
    }
   ],
   "source": [
    "model = model.prune(threshold=1e-1)\n",
    "model(dataset['train_input'])\n",
    "model.plot()"
   ]
  },
  {
   "cell_type": "code",
   "execution_count": 23,
   "id": "4942984c",
   "metadata": {},
   "outputs": [
    {
     "name": "stdout",
     "output_type": "stream",
     "text": [
      "function , r2\n",
      "sin , 0.9975056052207947\n",
      "gaussian , 0.9349910020828247\n",
      "tanh , 0.8612139225006104\n",
      "sigmoid , 0.8579477667808533\n",
      "arctan , 0.842193067073822\n"
     ]
    },
    {
     "data": {
      "text/plain": [
       "('sin',\n",
       " (<function kan.utils.<lambda>(x)>, <function kan.utils.<lambda>(x)>),\n",
       " 0.9975056052207947)"
      ]
     },
     "execution_count": 23,
     "metadata": {},
     "output_type": "execute_result"
    }
   ],
   "source": [
    "# sin appears at the top of the suggestion list, which is good!\n",
    "model.suggest_symbolic(0,0,0)"
   ]
  },
  {
   "cell_type": "code",
   "execution_count": 24,
   "id": "3f1c41a6",
   "metadata": {},
   "outputs": [
    {
     "name": "stdout",
     "output_type": "stream",
     "text": [
      "function , r2\n",
      "cosh , 0.9884885549545288\n",
      "x^2 , 0.9858922362327576\n",
      "gaussian , 0.9856787323951721\n",
      "sin , 0.98312908411026\n",
      "x^4 , 0.9298607110977173\n"
     ]
    },
    {
     "data": {
      "text/plain": [
       "('cosh',\n",
       " (<function kan.utils.<lambda>(x)>, <function kan.utils.<lambda>(x)>),\n",
       " 0.9884885549545288)"
      ]
     },
     "execution_count": 24,
     "metadata": {},
     "output_type": "execute_result"
    }
   ],
   "source": [
    "# x^2 appears in the suggestion list (usually not top 1), but it is fine!\n",
    "model.suggest_symbolic(0,1,0)"
   ]
  },
  {
   "cell_type": "code",
   "execution_count": 25,
   "id": "01ff562d",
   "metadata": {},
   "outputs": [
    {
     "name": "stdout",
     "output_type": "stream",
     "text": [
      "function , r2\n",
      "sigmoid , 0.9999585151672363\n",
      "tanh , 0.9999585151672363\n",
      "gaussian , 0.9999433159828186\n",
      "arctan , 0.9994633197784424\n",
      "x^2 , 0.9992135167121887\n"
     ]
    },
    {
     "data": {
      "text/plain": [
       "('sigmoid', (<function kan.utils.<lambda>(x)>, sigmoid), 0.9999585151672363)"
      ]
     },
     "execution_count": 25,
     "metadata": {},
     "output_type": "execute_result"
    }
   ],
   "source": [
    "# exp not even appears in the list (but note how high correlation of all these functions), which is sad!\n",
    "model.suggest_symbolic(1,0,0)"
   ]
  },
  {
   "cell_type": "code",
   "execution_count": 26,
   "id": "232b710b",
   "metadata": {},
   "outputs": [
    {
     "name": "stdout",
     "output_type": "stream",
     "text": [
      "function , r2\n",
      "sigmoid , 0.9999585151672363\n",
      "tanh , 0.9999585151672363\n",
      "gaussian , 0.9999433159828186\n",
      "arctan , 0.9994633197784424\n",
      "x^2 , 0.9992135167121887\n",
      "sin , 0.9992051124572754\n",
      "cosh , 0.9991425275802612\n",
      "x^3 , 0.9984820485115051\n",
      "x^4 , 0.9976401329040527\n",
      "exp , 0.9952594041824341\n",
      "1/x^4 , 0.9934328198432922\n",
      "1/x^3 , 0.9929362535476685\n",
      "1/x^2 , 0.9920679926872253\n",
      "1/x , 0.9901971817016602\n",
      "tan , 0.9887967705726624\n"
     ]
    },
    {
     "data": {
      "text/plain": [
       "('sigmoid', (<function kan.utils.<lambda>(x)>, sigmoid), 0.9999585151672363)"
      ]
     },
     "execution_count": 26,
     "metadata": {},
     "output_type": "execute_result"
    }
   ],
   "source": [
    "# let's try suggesting more by changing topk. Exp should appear in the list\n",
    "# But it's very unclear why should we prefer exp over others. All of them have quite high correlation with the learned spline.\n",
    "model.suggest_symbolic(1,0,0,topk=15)"
   ]
  },
  {
   "cell_type": "markdown",
   "id": "51844d0f",
   "metadata": {},
   "source": [
    "Let's train more! The loss goes down and the splines should be more exact"
   ]
  },
  {
   "cell_type": "code",
   "execution_count": 27,
   "id": "324937fe",
   "metadata": {},
   "outputs": [
    {
     "name": "stderr",
     "output_type": "stream",
     "text": [
      "train loss: 7.30e-03 | test loss: 7.25e-03 | reg: 2.67e+00 : 100%|██| 20/20 [00:02<00:00,  8.11it/s]\n"
     ]
    },
    {
     "data": {
      "image/png": "[encoded data removed]",
      "text/plain": [
       "<Figure size 500x400 with 4 Axes>"
      ]
     },
     "metadata": {},
     "output_type": "display_data"
    }
   ],
   "source": [
    "model.train(dataset, opt=\"LBFGS\", steps=20);\n",
    "model.plot()"
   ]
  },
  {
   "cell_type": "code",
   "execution_count": 28,
   "id": "fb0f6758",
   "metadata": {},
   "outputs": [
    {
     "name": "stdout",
     "output_type": "stream",
     "text": [
      "function , r2\n",
      "sin , 0.9999734163284302\n",
      "gaussian , 0.924185574054718\n",
      "tanh , 0.8712988495826721\n",
      "sigmoid , 0.8678407073020935\n",
      "arctan , 0.8526507019996643\n"
     ]
    },
    {
     "data": {
      "text/plain": [
       "('sin',\n",
       " (<function kan.utils.<lambda>(x)>, <function kan.utils.<lambda>(x)>),\n",
       " 0.9999734163284302)"
      ]
     },
     "execution_count": 28,
     "metadata": {},
     "output_type": "execute_result"
    }
   ],
   "source": [
    "# sin appears at the top of the suggestion list, which is good!\n",
    "model.suggest_symbolic(0,0,0)"
   ]
  },
  {
   "cell_type": "code",
   "execution_count": 29,
   "id": "9a2406e8",
   "metadata": {},
   "outputs": [
    {
     "name": "stdout",
     "output_type": "stream",
     "text": [
      "function , r2\n",
      "x^2 , 0.9999990463256836\n",
      "cosh , 0.9999856352806091\n",
      "gaussian , 0.9999769926071167\n",
      "sin , 0.9981749057769775\n",
      "abs , 0.938005805015564\n"
     ]
    },
    {
     "data": {
      "text/plain": [
       "('x^2',\n",
       " (<function kan.utils.<lambda>(x)>, <function kan.utils.<lambda>(x)>),\n",
       " 0.9999990463256836)"
      ]
     },
     "execution_count": 29,
     "metadata": {},
     "output_type": "execute_result"
    }
   ],
   "source": [
    "# x^2 appears at the top of the suggestion list, which is good!\n",
    "# But note how competitive cosh and gaussian are. They are also locally quadratic.\n",
    "model.suggest_symbolic(0,1,0)"
   ]
  },
  {
   "cell_type": "code",
   "execution_count": 30,
   "id": "26dfe636",
   "metadata": {},
   "outputs": [
    {
     "name": "stdout",
     "output_type": "stream",
     "text": [
      "function , r2\n",
      "exp , 0.9999989867210388\n",
      "cosh , 0.9999958872795105\n",
      "sigmoid , 0.9999851584434509\n",
      "tanh , 0.9999068975448608\n",
      "gaussian , 0.9998790621757507\n"
     ]
    },
    {
     "data": {
      "text/plain": [
       "('exp',\n",
       " (<function kan.utils.<lambda>(x)>, <function kan.utils.<lambda>(x)>),\n",
       " 0.9999989867210388)"
      ]
     },
     "execution_count": 30,
     "metadata": {},
     "output_type": "execute_result"
    }
   ],
   "source": [
    "# exp appears at the top of the suggestion list, which is good!\n",
    "model.suggest_symbolic(1,0,0)"
   ]
  },
  {
   "cell_type": "markdown",
   "id": "a880bac4",
   "metadata": {},
   "source": [
    "The takeaway is that symbolic regression is very sensitive to noise, so if we want to extract exact symbolic formulas from trained networks, the networks need to be trained to quite high accuracy!"
   ]
  },
  {
   "cell_type": "code",
   "execution_count": 31,
   "id": "0fd2e8b6",
   "metadata": {},
   "outputs": [
    {
     "name": "stdout",
     "output_type": "stream",
     "text": [
      "fixing (0,0,0) with sin, r2=0.9999734163284302\n",
      "fixing (0,1,0) with x^2, r2=0.9999990463256836\n",
      "fixing (1,0,0) with exp, r2=0.9999989867210388\n"
     ]
    }
   ],
   "source": [
    "# now let's replace every activation function with its top 1 symbolic suggestion. This is implmented in auto_symbolic()\n",
    "#model.auto_symbolic()\n",
    "\n",
    "# if the user wants to constrain the symbolic space, they can pass in their symbolic libarary\n",
    "lib = ['sin', 'x^2', 'exp']\n",
    "model.auto_symbolic(lib=lib)"
   ]
  },
  {
   "cell_type": "markdown",
   "id": "a3d634fe",
   "metadata": {},
   "source": [
    "After retraining, we get (almost) machine precision! This is the winning signal that this formula is (very likely to be) exact!"
   ]
  },
  {
   "cell_type": "code",
   "execution_count": 32,
   "id": "9fcecc80",
   "metadata": {},
   "outputs": [
    {
     "name": "stderr",
     "output_type": "stream",
     "text": [
      "train loss: 2.73e-07 | test loss: 2.64e-07 | reg: 2.67e+00 : 100%|██| 20/20 [00:00<00:00, 25.29it/s]\n"
     ]
    },
    {
     "data": {
      "image/png": "[encoded data removed]",
      "text/plain": [
       "<Figure size 500x400 with 4 Axes>"
      ]
     },
     "metadata": {},
     "output_type": "display_data"
    }
   ],
   "source": [
    "model.train(dataset, opt=\"LBFGS\", steps=20);\n",
    "model.plot()"
   ]
  },
  {
   "cell_type": "code",
   "execution_count": 33,
   "id": "4eb022df",
   "metadata": {},
   "outputs": [
    {
     "data": {
      "text/latex": [
       "$\\displaystyle 1.0 e^{1.0 x_{2}^{2} + 1.0 \\sin{\\left(3.14 x_{1} \\right)}}$"
      ],
      "text/plain": [
       "1.0*exp(1.0*x_2**2 + 1.0*sin(3.14*x_1))"
      ]
     },
     "execution_count": 33,
     "metadata": {},
     "output_type": "execute_result"
    }
   ],
   "source": [
    "# obtaining symbolic formula\n",
    "formula, variables = model.symbolic_formula()\n",
    "formula[0]"
   ]
  },
  {
   "cell_type": "code",
   "execution_count": 34,
   "id": "a8e794ba",
   "metadata": {
    "code_folding": []
   },
   "outputs": [
    {
     "data": {
      "text/latex": [
       "$\\displaystyle 1.0 e^{1.0 y^{2} + 1.0 \\sin{\\left(3.14 \\alpha \\right)}}$"
      ],
      "text/plain": [
       "1.0*exp(1.0*y**2 + 1.0*sin(3.14*\\alpha))"
      ]
     },
     "execution_count": 34,
     "metadata": {},
     "output_type": "execute_result"
    }
   ],
   "source": [
    "# if you want to rename your variables, you could use the \"var\" argument\n",
    "formula, variables = model.symbolic_formula(var=['\\\\alpha','y'])\n",
    "formula[0]"
   ]
  },
  {
   "cell_type": "code",
   "execution_count": 35,
   "id": "a1349079",
   "metadata": {},
   "outputs": [
    {
     "data": {
      "text/latex": [
       "$\\displaystyle 3.14013671875 e^{1.0 y^{2} + 1.0 \\sin{\\left(3.14 \\alpha \\right)}} \\cos{\\left(3.14 \\alpha \\right)}$"
      ],
      "text/plain": [
       "3.14013671875*exp(1.0*y**2 + 1.0*sin(3.14*\\alpha))*cos(3.14*\\alpha)"
      ]
     },
     "execution_count": 35,
     "metadata": {},
     "output_type": "execute_result"
    }
   ],
   "source": [
    "# one can even postprocess the formula (e.g., taking derivatives)\n",
    "from sympy import *\n",
    "diff(formula[0], variables[0])"
   ]
  },
  {
   "cell_type": "markdown",
   "id": "4474d38d",
   "metadata": {},
   "source": [
    "When do we know the formula we guessed is wrong (not exact)? If the data is clean (no noise), we should see the training loss does not reach machine precision"
   ]
  },
  {
   "cell_type": "code",
   "execution_count": 36,
   "id": "22529272",
   "metadata": {},
   "outputs": [
    {
     "name": "stdout",
     "output_type": "stream",
     "text": [
      "r2 is 0.999990701675415\n"
     ]
    },
    {
     "data": {
      "text/plain": [
       "tensor(1.0000)"
      ]
     },
     "execution_count": 36,
     "metadata": {},
     "output_type": "execute_result"
    }
   ],
   "source": [
    "# let's replace (0,1,0) with cosh\n",
    "model.fix_symbolic(0,1,0,'cosh')"
   ]
  },
  {
   "cell_type": "code",
   "execution_count": 37,
   "id": "404dbd96",
   "metadata": {},
   "outputs": [
    {
     "name": "stderr",
     "output_type": "stream",
     "text": [
      "train loss: 1.51e-03 | test loss: 1.53e-03 | reg: 2.66e+00 : 100%|██| 20/20 [00:00<00:00, 22.81it/s]\n"
     ]
    },
    {
     "data": {
      "image/png": "[encoded data removed]",
      "text/plain": [
       "<Figure size 500x400 with 4 Axes>"
      ]
     },
     "metadata": {},
     "output_type": "display_data"
    }
   ],
   "source": [
    "# this loss is stuck at around 1e-3 RMSE, which is good, but not machine precision.\n",
    "model.train(dataset, opt=\"LBFGS\", steps=20);\n",
    "model.plot()"
   ]
  },
  {
   "cell_type": "markdown",
   "id": "2318c655",
   "metadata": {},
   "source": [
    "## Part II: How hard (ill-defined) is symbolic regression, really?\n",
    "\n",
    "In part I, we show how people can use KANs for symbolic regression, but caveat that we need to train KANs to quite high precision. This is not a problem specific to KANs though; this issue originates from symbolic regression. The space of symbolic formulas is actually quite dense, so tiny noise can make one symbolic formula transit to another. "
   ]
  },
  {
   "cell_type": "markdown",
   "id": "a4d76348",
   "metadata": {},
   "source": [
    "### 1D example: Adding noise to a bounded region sine"
   ]
  },
  {
   "cell_type": "code",
   "execution_count": 38,
   "id": "73dd7978",
   "metadata": {},
   "outputs": [],
   "source": [
    "def toy(bound=1., noise=0., fun=lambda x: torch.sin(torch.pi*x)):\n",
    "\n",
    "    num_pts = 101\n",
    "    x = torch.linspace(-bound,bound,steps=num_pts)\n",
    "    x = x[:,None]\n",
    "    y = fun(x) + torch.normal(0,1,size=(num_pts,)) * noise\n",
    "    dataset = {}\n",
    "    dataset['train_input'] = dataset['test_input'] = x\n",
    "    dataset['train_label'] = dataset['test_label'] = y\n",
    "    model = KAN(width=[1,1], grid=5, k=3, seed=0, grid_range=(-bound,bound))\n",
    "    model.train(dataset, opt=\"LBFGS\", steps=20)\n",
    "    model.suggest_symbolic(0,0,0)\n",
    "    model.plot()"
   ]
  },
  {
   "cell_type": "code",
   "execution_count": 39,
   "id": "2e129909",
   "metadata": {},
   "outputs": [
    {
     "name": "stderr",
     "output_type": "stream",
     "text": [
      "train loss: 2.79e-03 | test loss: 2.79e-03 | reg: 3.12e-01 : 100%|██| 20/20 [00:00<00:00, 31.62it/s]\n"
     ]
    },
    {
     "name": "stdout",
     "output_type": "stream",
     "text": [
      "function , r2\n",
      "sin , 0.9999845623970032\n",
      "gaussian , 0.9184407591819763\n",
      "tanh , 0.863538384437561\n",
      "sigmoid , 0.8601323366165161\n",
      "arctan , 0.845004141330719\n"
     ]
    },
    {
     "data": {
      "image/png": "[encoded data removed]",
      "text/plain": [
       "<Figure size 500x200 with 2 Axes>"
      ]
     },
     "metadata": {},
     "output_type": "display_data"
    }
   ],
   "source": [
    "# when the function is whole range \"bound=1.\"\" (captures a whole period of sine) and has zero noise \"noise=0.\"\n",
    "# it is quite clear the function is clear\n",
    "toy()"
   ]
  },
  {
   "cell_type": "code",
   "execution_count": 40,
   "id": "b260de36",
   "metadata": {},
   "outputs": [
    {
     "name": "stderr",
     "output_type": "stream",
     "text": [
      "train loss: 9.22e-01 | test loss: 9.22e-01 | reg: 3.12e-01 : 100%|██| 20/20 [00:00<00:00, 34.87it/s]\n"
     ]
    },
    {
     "name": "stdout",
     "output_type": "stream",
     "text": [
      "function , r2\n",
      "sin , 0.9999845623970032\n",
      "gaussian , 0.9184520840644836\n",
      "tanh , 0.8635512590408325\n",
      "sigmoid , 0.8601468205451965\n",
      "arctan , 0.8450186848640442\n"
     ]
    },
    {
     "data": {
      "image/png": "[encoded data removed]",
      "text/plain": [
       "<Figure size 500x200 with 2 Axes>"
      ]
     },
     "metadata": {},
     "output_type": "display_data"
    }
   ],
   "source": [
    "# even with large noise, sine can be revealed, yeah!\n",
    "toy(noise=1.)"
   ]
  },
  {
   "cell_type": "code",
   "execution_count": 41,
   "id": "b429397b",
   "metadata": {},
   "outputs": [
    {
     "name": "stderr",
     "output_type": "stream",
     "text": [
      "train loss: 9.22e-02 | test loss: 9.22e-02 | reg: 7.15e-01 : 100%|██| 20/20 [00:00<00:00, 47.72it/s]\n"
     ]
    },
    {
     "name": "stdout",
     "output_type": "stream",
     "text": [
      "function , r2\n",
      "sin , 0.9999920129776001\n",
      "arctan , 0.9999851584434509\n",
      "tanh , 0.999984860420227\n",
      "x^4 , 0.9999810457229614\n",
      "x^3 , 0.9999809861183167\n"
     ]
    },
    {
     "data": {
      "image/png": "[encoded data removed]",
      "text/plain": [
       "<Figure size 500x200 with 2 Axes>"
      ]
     },
     "metadata": {},
     "output_type": "display_data"
    }
   ],
   "source": [
    "# but when bound is small and there is noise, it starts to screw up (at least becomes less clear why we should prefer sine)\n",
    "toy(bound = 0.1, noise=0.1)"
   ]
  },
  {
   "cell_type": "markdown",
   "id": "c2ec089e",
   "metadata": {},
   "source": [
    "### Phase diagram of symbolic regression (how fratcal/chaotic is my phase diagram?)"
   ]
  },
  {
   "cell_type": "markdown",
   "id": "29f51b09",
   "metadata": {},
   "source": [
    "#### mix three functions $f_1(x)={\\rm sin}(x)$, $f_2(x)=x^2$, and $f_3(x)={\\rm exp}(x)$ such that $f(x)=af_1(x)+bf_2(x)+(1-a-b)f_3(x)$. Symbolically regress $f(x)$."
   ]
  },
  {
   "cell_type": "code",
   "execution_count": 42,
   "id": "b76dfc4a",
   "metadata": {
    "code_folding": []
   },
   "outputs": [],
   "source": [
    "def mix(a, b, bound=1):\n",
    "    num_pts = 101\n",
    "    x = torch.linspace(-bound,bound,steps=num_pts)\n",
    "    x = x[:,None]\n",
    "    y = a * torch.sin(x) + b * x**2 + (1-a-b) * torch.exp(x)\n",
    "    dataset = {}\n",
    "    dataset['train_input'] = dataset['test_input'] = x\n",
    "    dataset['train_label'] = dataset['test_label'] = y\n",
    "    model = KAN(width=[1,1], grid=10, k=3, seed=0, grid_range=(-bound,bound))\n",
    "    model.train(dataset, opt=\"LBFGS\", steps=20)\n",
    "    return model.suggest_symbolic(0,0,0)[0]\n",
    "    "
   ]
  },
  {
   "cell_type": "code",
   "execution_count": 43,
   "id": "372aabd8",
   "metadata": {},
   "outputs": [
    {
     "name": "stderr",
     "output_type": "stream",
     "text": [
      "train loss: 2.41e-06 | test loss: 2.41e-06 | reg: 2.64e-01 : 100%|██| 20/20 [00:00<00:00, 39.64it/s]\n"
     ]
    },
    {
     "name": "stdout",
     "output_type": "stream",
     "text": [
      "function , r2\n",
      "cosh , 0.9999979138374329\n",
      "exp , 0.9999955296516418\n",
      "sigmoid , 0.9999611377716064\n",
      "tanh , 0.9999526143074036\n",
      "1/x^4 , 0.9999521970748901\n"
     ]
    },
    {
     "data": {
      "text/plain": [
       "'cosh'"
      ]
     },
     "execution_count": 43,
     "metadata": {},
     "output_type": "execute_result"
    },
    {
     "ename": "",
     "evalue": "",
     "output_type": "error",
     "traceback": [
      "\u001b[1;31mThe Kernel crashed while executing code in the current cell or a previous cell. \n",
      "\u001b[1;31mPlease review the code in the cell(s) to identify a possible cause of the failure. \n",
      "\u001b[1;31mClick <a href='https://aka.ms/vscodeJupyterKernelCrash'>here</a> for more info. \n",
      "\u001b[1;31mView Jupyter <a href='command:jupyter.viewOutput'>log</a> for further details."
     ]
    }
   ],
   "source": [
    "mix(a=0.2, b=0.0)"
   ]
  },
  {
   "cell_type": "code",
   "execution_count": 44,
   "id": "9166ca69",
   "metadata": {},
   "outputs": [
    {
     "name": "stderr",
     "output_type": "stream",
     "text": [
      "train loss: 2.76e-06 | test loss: 2.76e-06 | reg: 2.72e-01 : 100%|██| 20/20 [00:00<00:00, 42.90it/s]\n"
     ]
    },
    {
     "name": "stdout",
     "output_type": "stream",
     "text": [
      "function , r2\n",
      "exp , 1.0000004768371582\n",
      "cosh , 1.0000003576278687\n",
      "tanh , 0.9999734163284302\n",
      "sigmoid , 0.9999500513076782\n",
      "1/x^4 , 0.9999372959136963\n"
     ]
    },
    {
     "name": "stderr",
     "output_type": "stream",
     "text": [
      "train loss: 2.53e-06 | test loss: 2.53e-06 | reg: 2.45e-01 : 100%|██| 20/20 [00:00<00:00, 47.69it/s]\n"
     ]
    },
    {
     "name": "stdout",
     "output_type": "stream",
     "text": [
      "function , r2\n",
      "cosh , 0.9999992251396179\n",
      "x^4 , 0.9999915957450867\n",
      "gaussian , 0.9999678134918213\n",
      "tanh , 0.9999523162841797\n",
      "sigmoid , 0.9999489784240723\n"
     ]
    },
    {
     "name": "stderr",
     "output_type": "stream",
     "text": [
      "train loss: 2.29e-06 | test loss: 2.29e-06 | reg: 2.18e-01 : 100%|██| 20/20 [00:00<00:00, 38.82it/s]\n"
     ]
    },
    {
     "name": "stdout",
     "output_type": "stream",
     "text": [
      "function , r2\n",
      "cosh , 0.9999951124191284\n",
      "x^3 , 0.9999169111251831\n",
      "gaussian , 0.9997472167015076\n",
      "x^4 , 0.9996082186698914\n",
      "tanh , 0.9995840191841125\n"
     ]
    },
    {
     "name": "stderr",
     "output_type": "stream",
     "text": [
      "train loss: 2.05e-06 | test loss: 2.05e-06 | reg: 1.94e-01 : 100%|██| 20/20 [00:00<00:00, 29.49it/s]\n"
     ]
    },
    {
     "name": "stdout",
     "output_type": "stream",
     "text": [
      "function , r2\n",
      "cosh , 0.9999857544898987\n",
      "x^3 , 0.9988142848014832\n",
      "gaussian , 0.9985230565071106\n",
      "x^2 , 0.99847811460495\n",
      "sin , 0.9981949925422668\n"
     ]
    },
    {
     "name": "stderr",
     "output_type": "stream",
     "text": [
      "train loss: 1.81e-06 | test loss: 1.81e-06 | reg: 1.71e-01 : 100%|██| 20/20 [00:00<00:00, 36.75it/s]\n"
     ]
    },
    {
     "name": "stdout",
     "output_type": "stream",
     "text": [
      "function , r2\n",
      "cosh , 0.9999663829803467\n",
      "x^2 , 0.9986101984977722\n",
      "sin , 0.9982841610908508\n",
      "x^3 , 0.9936587810516357\n",
      "gaussian , 0.9936466217041016\n"
     ]
    },
    {
     "name": "stderr",
     "output_type": "stream",
     "text": [
      "train loss: 1.55e-06 | test loss: 1.55e-06 | reg: 1.51e-01 : 100%|██| 20/20 [00:00<00:00, 38.42it/s]\n"
     ]
    },
    {
     "name": "stdout",
     "output_type": "stream",
     "text": [
      "function , r2\n",
      "cosh , 0.9999421834945679\n",
      "x^2 , 0.9987948536872864\n",
      "sin , 0.9984332323074341\n",
      "gaussian , 0.994968831539154\n",
      "tanh , 0.9764367938041687\n"
     ]
    },
    {
     "name": "stderr",
     "output_type": "stream",
     "text": [
      "train loss: 1.31e-06 | test loss: 1.31e-06 | reg: 1.37e-01 : 100%|██| 20/20 [00:00<00:00, 39.66it/s]\n"
     ]
    },
    {
     "name": "stdout",
     "output_type": "stream",
     "text": [
      "function , r2\n",
      "cosh , 0.9999043941497803\n",
      "x^2 , 0.9990440011024475\n",
      "sin , 0.9986633658409119\n",
      "gaussian , 0.995881199836731\n",
      "tanh , 0.9380274415016174\n"
     ]
    },
    {
     "name": "stderr",
     "output_type": "stream",
     "text": [
      "train loss: 1.07e-06 | test loss: 1.07e-06 | reg: 1.29e-01 : 100%|██| 20/20 [00:00<00:00, 39.32it/s]\n"
     ]
    },
    {
     "name": "stdout",
     "output_type": "stream",
     "text": [
      "function , r2\n",
      "cosh , 0.9998658895492554\n",
      "x^2 , 0.9993508458137512\n",
      "sin , 0.9989811182022095\n",
      "gaussian , 0.991625964641571\n",
      "x^4 , 0.9172568321228027\n"
     ]
    },
    {
     "name": "stderr",
     "output_type": "stream",
     "text": [
      "train loss: 8.33e-07 | test loss: 8.33e-07 | reg: 1.27e-01 : 100%|██| 20/20 [00:00<00:00, 41.60it/s]\n"
     ]
    },
    {
     "name": "stdout",
     "output_type": "stream",
     "text": [
      "function , r2\n",
      "x^2 , 0.9996704459190369\n",
      "sin , 0.9993890523910522\n",
      "cosh , 0.9985612034797668\n",
      "gaussian , 0.9707186818122864\n",
      "abs , 0.9254010915756226\n"
     ]
    },
    {
     "name": "stderr",
     "output_type": "stream",
     "text": [
      "train loss: 6.06e-07 | test loss: 6.06e-07 | reg: 1.30e-01 : 100%|██| 20/20 [00:00<00:00, 38.87it/s]\n"
     ]
    },
    {
     "name": "stdout",
     "output_type": "stream",
     "text": [
      "function , r2\n",
      "x^2 , 0.9999135732650757\n",
      "sin , 0.9994936585426331\n",
      "gaussian , 0.9994853734970093\n",
      "cosh , 0.9879138469696045\n",
      "abs , 0.9339755177497864\n"
     ]
    },
    {
     "name": "stderr",
     "output_type": "stream",
     "text": [
      "train loss: 3.80e-07 | test loss: 3.80e-07 | reg: 1.38e-01 : 100%|██| 20/20 [00:00<00:00, 37.53it/s]\n"
     ]
    },
    {
     "name": "stdout",
     "output_type": "stream",
     "text": [
      "function , r2\n",
      "x^2 , 1.0000004768371582\n",
      "cosh , 0.9999102354049683\n",
      "gaussian , 0.9997107982635498\n",
      "sin , 0.9989291429519653\n",
      "abs , 0.9374392032623291\n"
     ]
    },
    {
     "name": "stderr",
     "output_type": "stream",
     "text": [
      "train loss: 2.58e-06 | test loss: 2.58e-06 | reg: 2.68e-01 : 100%|██| 20/20 [00:00<00:00, 41.10it/s]\n"
     ]
    },
    {
     "name": "stdout",
     "output_type": "stream",
     "text": [
      "function , r2\n",
      "exp , 0.999999463558197\n",
      "arctan , 0.9999802708625793\n",
      "cosh , 0.9999773502349854\n",
      "tanh , 0.9999637007713318\n",
      "sigmoid , 0.9999545216560364\n"
     ]
    },
    {
     "name": "stderr",
     "output_type": "stream",
     "text": [
      "train loss: 2.34e-06 | test loss: 2.34e-06 | reg: 2.40e-01 : 100%|██| 20/20 [00:00<00:00, 39.00it/s]\n"
     ]
    },
    {
     "name": "stdout",
     "output_type": "stream",
     "text": [
      "function , r2\n",
      "cosh , 0.9999938011169434\n",
      "x^4 , 0.9999866485595703\n",
      "gaussian , 0.9999640583992004\n",
      "sigmoid , 0.9999451041221619\n",
      "x^3 , 0.9999441504478455\n"
     ]
    },
    {
     "name": "stderr",
     "output_type": "stream",
     "text": [
      "train loss: 2.10e-06 | test loss: 2.10e-06 | reg: 2.14e-01 : 100%|██| 20/20 [00:00<00:00, 38.52it/s]\n"
     ]
    },
    {
     "name": "stdout",
     "output_type": "stream",
     "text": [
      "function , r2\n",
      "cosh , 0.9999948740005493\n",
      "x^3 , 0.999884843826294\n",
      "gaussian , 0.9997602105140686\n",
      "tanh , 0.9996165633201599\n",
      "sigmoid , 0.9996150135993958\n"
     ]
    },
    {
     "name": "stderr",
     "output_type": "stream",
     "text": [
      "train loss: 1.86e-06 | test loss: 1.86e-06 | reg: 1.89e-01 : 100%|██| 20/20 [00:00<00:00, 35.26it/s]\n"
     ]
    },
    {
     "name": "stdout",
     "output_type": "stream",
     "text": [
      "function , r2\n",
      "cosh , 0.9999828934669495\n",
      "x^2 , 0.9991239309310913\n",
      "sin , 0.9988862872123718\n",
      "x^3 , 0.9987776279449463\n",
      "gaussian , 0.9986570477485657\n"
     ]
    },
    {
     "name": "stderr",
     "output_type": "stream",
     "text": [
      "train loss: 1.61e-06 | test loss: 1.61e-06 | reg: 1.66e-01 : 100%|██| 20/20 [00:00<00:00, 42.30it/s]\n"
     ]
    },
    {
     "name": "stdout",
     "output_type": "stream",
     "text": [
      "function , r2\n",
      "cosh , 0.9999908804893494\n",
      "x^2 , 0.9992858171463013\n",
      "sin , 0.9988725185394287\n",
      "gaussian , 0.9985800385475159\n",
      "x^3 , 0.9939917325973511\n"
     ]
    },
    {
     "name": "stderr",
     "output_type": "stream",
     "text": [
      "train loss: 1.38e-06 | test loss: 1.38e-06 | reg: 1.45e-01 : 100%|██| 20/20 [00:00<00:00, 43.74it/s]\n"
     ]
    },
    {
     "name": "stdout",
     "output_type": "stream",
     "text": [
      "function , r2\n",
      "cosh , 0.9999798536300659\n",
      "x^2 , 0.9994809031486511\n",
      "sin , 0.9991909861564636\n",
      "gaussian , 0.9964683651924133\n",
      "tanh , 0.9772538542747498\n"
     ]
    },
    {
     "name": "stderr",
     "output_type": "stream",
     "text": [
      "train loss: 1.13e-06 | test loss: 1.13e-06 | reg: 1.29e-01 : 100%|██| 20/20 [00:00<00:00, 38.78it/s]\n"
     ]
    },
    {
     "name": "stdout",
     "output_type": "stream",
     "text": [
      "function , r2\n",
      "cosh , 0.9999741315841675\n",
      "x^2 , 0.999697744846344\n",
      "sin , 0.9994117617607117\n",
      "gaussian , 0.9973545074462891\n",
      "tanh , 0.9376919269561768\n"
     ]
    },
    {
     "name": "stderr",
     "output_type": "stream",
     "text": [
      "train loss: 8.83e-07 | test loss: 8.83e-07 | reg: 1.22e-01 : 100%|██| 20/20 [00:00<00:00, 33.35it/s]\n"
     ]
    },
    {
     "name": "stdout",
     "output_type": "stream",
     "text": [
      "function , r2\n",
      "x^2 , 0.9998961091041565\n",
      "cosh , 0.9998720288276672\n",
      "sin , 0.9996592402458191\n",
      "gaussian , 0.9939866662025452\n",
      "abs , 0.923265278339386\n"
     ]
    },
    {
     "name": "stderr",
     "output_type": "stream",
     "text": [
      "train loss: 6.52e-07 | test loss: 6.52e-07 | reg: 1.20e-01 : 100%|██| 20/20 [00:00<00:00, 36.61it/s]\n"
     ]
    },
    {
     "name": "stdout",
     "output_type": "stream",
     "text": [
      "function , r2\n",
      "x^2 , 0.9999977350234985\n",
      "sin , 0.9998341798782349\n",
      "cosh , 0.9962064027786255\n",
      "gaussian , 0.9754126071929932\n",
      "abs , 0.9311625957489014\n"
     ]
    },
    {
     "name": "stderr",
     "output_type": "stream",
     "text": [
      "train loss: 4.24e-07 | test loss: 4.24e-07 | reg: 1.24e-01 : 100%|██| 20/20 [00:00<00:00, 32.89it/s]\n"
     ]
    },
    {
     "name": "stdout",
     "output_type": "stream",
     "text": [
      "function , r2\n",
      "x^2 , 0.9999229311943054\n",
      "sin , 0.9998641014099121\n",
      "cosh , 0.9997752904891968\n",
      "gaussian , 0.9996799826622009\n",
      "abs , 0.9372400641441345\n"
     ]
    },
    {
     "name": "stderr",
     "output_type": "stream",
     "text": [
      "train loss: 2.30e-07 | test loss: 2.30e-07 | reg: 1.33e-01 : 100%|██| 20/20 [00:00<00:00, 41.67it/s]\n"
     ]
    },
    {
     "name": "stdout",
     "output_type": "stream",
     "text": [
      "function , r2\n",
      "cosh , 0.9995552897453308\n",
      "gaussian , 0.999346911907196\n",
      "sin , 0.9985870718955994\n",
      "x^2 , 0.9984340071678162\n",
      "abs , 0.9362897276878357\n"
     ]
    },
    {
     "name": "stderr",
     "output_type": "stream",
     "text": [
      "train loss: 2.41e-06 | test loss: 2.41e-06 | reg: 2.64e-01 : 100%|██| 20/20 [00:00<00:00, 40.92it/s]\n"
     ]
    },
    {
     "name": "stdout",
     "output_type": "stream",
     "text": [
      "function , r2\n",
      "cosh , 0.9999979138374329\n",
      "exp , 0.9999955296516418\n",
      "sigmoid , 0.9999611377716064\n",
      "tanh , 0.9999526143074036\n",
      "1/x^4 , 0.9999521970748901\n"
     ]
    },
    {
     "name": "stderr",
     "output_type": "stream",
     "text": [
      "train loss: 2.17e-06 | test loss: 2.17e-06 | reg: 2.36e-01 : 100%|██| 20/20 [00:00<00:00, 41.94it/s]\n"
     ]
    },
    {
     "name": "stdout",
     "output_type": "stream",
     "text": [
      "function , r2\n",
      "cosh , 0.9999991655349731\n",
      "x^3 , 0.9999775886535645\n",
      "x^4 , 0.999970018863678\n",
      "gaussian , 0.9999597072601318\n",
      "sigmoid , 0.9999392032623291\n"
     ]
    },
    {
     "name": "stderr",
     "output_type": "stream",
     "text": [
      "train loss: 1.93e-06 | test loss: 1.93e-06 | reg: 2.09e-01 : 100%|██| 20/20 [00:00<00:00, 38.44it/s]\n"
     ]
    },
    {
     "name": "stdout",
     "output_type": "stream",
     "text": [
      "function , r2\n",
      "cosh , 0.9999996423721313\n",
      "x^3 , 0.9998223185539246\n",
      "gaussian , 0.9997662901878357\n",
      "tanh , 0.999638557434082\n",
      "sigmoid , 0.9996371269226074\n"
     ]
    },
    {
     "name": "stderr",
     "output_type": "stream",
     "text": [
      "train loss: 1.69e-06 | test loss: 1.69e-06 | reg: 1.84e-01 : 100%|██| 20/20 [00:00<00:00, 32.51it/s]\n"
     ]
    },
    {
     "name": "stdout",
     "output_type": "stream",
     "text": [
      "function , r2\n",
      "cosh , 0.9999992847442627\n",
      "x^2 , 0.9996203780174255\n",
      "sin , 0.9994373917579651\n",
      "gaussian , 0.998763918876648\n",
      "x^3 , 0.9986607432365417\n"
     ]
    },
    {
     "name": "stderr",
     "output_type": "stream",
     "text": [
      "train loss: 1.43e-06 | test loss: 1.43e-06 | reg: 1.60e-01 : 100%|██| 20/20 [00:00<00:00, 39.86it/s]\n"
     ]
    },
    {
     "name": "stdout",
     "output_type": "stream",
     "text": [
      "function , r2\n",
      "cosh , 0.999995768070221\n",
      "x^2 , 0.9997673630714417\n",
      "sin , 0.999495804309845\n",
      "gaussian , 0.9992840886116028\n",
      "x^3 , 0.9941053986549377\n"
     ]
    },
    {
     "name": "stderr",
     "output_type": "stream",
     "text": [
      "train loss: 1.19e-06 | test loss: 1.19e-06 | reg: 1.39e-01 : 100%|██| 20/20 [00:00<00:00, 36.83it/s]\n"
     ]
    },
    {
     "name": "stdout",
     "output_type": "stream",
     "text": [
      "function , r2\n",
      "x^2 , 0.9999061226844788\n",
      "cosh , 0.9997881650924683\n",
      "sin , 0.9997012615203857\n",
      "gaussian , 0.9978273510932922\n",
      "sigmoid , 0.9780414700508118\n"
     ]
    },
    {
     "name": "stderr",
     "output_type": "stream",
     "text": [
      "train loss: 9.43e-07 | test loss: 9.43e-07 | reg: 1.23e-01 : 100%|██| 20/20 [00:00<00:00, 49.94it/s]\n"
     ]
    },
    {
     "name": "stdout",
     "output_type": "stream",
     "text": [
      "function , r2\n",
      "x^2 , 0.9999920129776001\n",
      "sin , 0.999854326248169\n",
      "gaussian , 0.9985647201538086\n",
      "cosh , 0.9978691339492798\n",
      "tanh , 0.9372187256813049\n"
     ]
    },
    {
     "name": "stderr",
     "output_type": "stream",
     "text": [
      "train loss: 7.02e-07 | test loss: 7.02e-07 | reg: 1.15e-01 : 100%|██| 20/20 [00:00<00:00, 37.15it/s]\n"
     ]
    },
    {
     "name": "stdout",
     "output_type": "stream",
     "text": [
      "function , r2\n",
      "x^2 , 0.9999415874481201\n",
      "sin , 0.9999181628227234\n",
      "cosh , 0.999316930770874\n",
      "gaussian , 0.9961109161376953\n",
      "abs , 0.9302395582199097\n"
     ]
    },
    {
     "name": "stderr",
     "output_type": "stream",
     "text": [
      "train loss: 4.80e-07 | test loss: 4.80e-07 | reg: 1.13e-01 : 100%|██| 20/20 [00:00<00:00, 40.21it/s]\n"
     ]
    },
    {
     "name": "stdout",
     "output_type": "stream",
     "text": [
      "function , r2\n",
      "sin , 0.9997866153717041\n",
      "x^2 , 0.9996583461761475\n",
      "cosh , 0.9942753911018372\n",
      "gaussian , 0.9798859357833862\n",
      "abs , 0.936910092830658\n"
     ]
    },
    {
     "name": "stderr",
     "output_type": "stream",
     "text": [
      "train loss: 2.67e-07 | test loss: 2.67e-07 | reg: 1.18e-01 : 100%|██| 20/20 [00:00<00:00, 35.55it/s]\n"
     ]
    },
    {
     "name": "stdout",
     "output_type": "stream",
     "text": [
      "function , r2\n",
      "sin , 0.9992179274559021\n",
      "x^2 , 0.999137818813324\n",
      "gaussian , 0.99908846616745\n",
      "cosh , 0.9988974928855896\n",
      "abs , 0.939662754535675\n"
     ]
    },
    {
     "name": "stderr",
     "output_type": "stream",
     "text": [
      "train loss: 1.85e-07 | test loss: 1.85e-07 | reg: 1.27e-01 : 100%|██| 20/20 [00:00<00:00, 39.93it/s]\n"
     ]
    },
    {
     "name": "stdout",
     "output_type": "stream",
     "text": [
      "function , r2\n",
      "x^2 , 0.9985410571098328\n",
      "cosh , 0.9984979033470154\n",
      "sin , 0.9981679916381836\n",
      "gaussian , 0.9980800747871399\n",
      "abs , 0.934815526008606\n"
     ]
    },
    {
     "name": "stderr",
     "output_type": "stream",
     "text": [
      "train loss: 2.22e-06 | test loss: 2.22e-06 | reg: 2.60e-01 : 100%|██| 20/20 [00:00<00:00, 41.47it/s]\n"
     ]
    },
    {
     "name": "stdout",
     "output_type": "stream",
     "text": [
      "function , r2\n",
      "cosh , 0.9999932646751404\n",
      "exp , 0.9999840259552002\n",
      "tanh , 0.999982476234436\n",
      "x^4 , 0.9999751448631287\n",
      "arctan , 0.999971866607666\n"
     ]
    },
    {
     "name": "stderr",
     "output_type": "stream",
     "text": [
      "train loss: 1.99e-06 | test loss: 1.99e-06 | reg: 2.32e-01 : 100%|██| 20/20 [00:00<00:00, 49.73it/s]\n"
     ]
    },
    {
     "name": "stdout",
     "output_type": "stream",
     "text": [
      "function , r2\n",
      "cosh , 0.9999966621398926\n",
      "x^3 , 0.9999815225601196\n",
      "gaussian , 0.9999538660049438\n",
      "tanh , 0.9999339580535889\n",
      "sigmoid , 0.9999309182167053\n"
     ]
    },
    {
     "name": "stderr",
     "output_type": "stream",
     "text": [
      "train loss: 1.74e-06 | test loss: 1.74e-06 | reg: 2.05e-01 : 100%|██| 20/20 [00:00<00:00, 34.40it/s]\n"
     ]
    },
    {
     "name": "stdout",
     "output_type": "stream",
     "text": [
      "function , r2\n",
      "cosh , 0.999996542930603\n",
      "x^2 , 0.9998264908790588\n",
      "gaussian , 0.9997667074203491\n",
      "x^3 , 0.9997121095657349\n",
      "sin , 0.9997117519378662\n"
     ]
    },
    {
     "name": "stderr",
     "output_type": "stream",
     "text": [
      "train loss: 1.49e-06 | test loss: 1.49e-06 | reg: 1.79e-01 : 100%|██| 20/20 [00:00<00:00, 45.50it/s]\n"
     ]
    },
    {
     "name": "stdout",
     "output_type": "stream",
     "text": [
      "function , r2\n",
      "cosh , 0.9999545216560364\n",
      "x^2 , 0.9999237656593323\n",
      "sin , 0.9998099207878113\n",
      "gaussian , 0.9988470077514648\n",
      "x^3 , 0.9984461069107056\n"
     ]
    },
    {
     "name": "stderr",
     "output_type": "stream",
     "text": [
      "train loss: 1.25e-06 | test loss: 1.25e-06 | reg: 1.55e-01 : 100%|██| 20/20 [00:00<00:00, 38.11it/s]\n"
     ]
    },
    {
     "name": "stdout",
     "output_type": "stream",
     "text": [
      "function , r2\n",
      "x^2 , 0.9999879002571106\n",
      "cosh , 0.9999627470970154\n",
      "sin , 0.999884307384491\n",
      "gaussian , 0.9997448325157166\n",
      "x^3 , 0.9939817190170288\n"
     ]
    },
    {
     "name": "stderr",
     "output_type": "stream",
     "text": [
      "train loss: 1.01e-06 | test loss: 1.01e-06 | reg: 1.33e-01 : 100%|██| 20/20 [00:00<00:00, 38.02it/s]\n"
     ]
    },
    {
     "name": "stdout",
     "output_type": "stream",
     "text": [
      "function , r2\n",
      "x^2 , 0.9999662041664124\n",
      "sin , 0.9998830556869507\n",
      "cosh , 0.9991430640220642\n",
      "gaussian , 0.9988926649093628\n",
      "tanh , 0.9787979125976562\n"
     ]
    },
    {
     "name": "stderr",
     "output_type": "stream",
     "text": [
      "train loss: 7.72e-07 | test loss: 7.72e-07 | reg: 1.17e-01 : 100%|██| 20/20 [00:00<00:00, 38.39it/s]\n"
     ]
    },
    {
     "name": "stdout",
     "output_type": "stream",
     "text": [
      "function , r2\n",
      "sin , 0.9999326467514038\n",
      "x^2 , 0.9997600317001343\n",
      "cosh , 0.9994867444038391\n",
      "gaussian , 0.9994862079620361\n",
      "tanh , 0.9365764260292053\n"
     ]
    },
    {
     "name": "stderr",
     "output_type": "stream",
     "text": [
      "train loss: 5.44e-07 | test loss: 5.44e-07 | reg: 1.08e-01 : 100%|██| 20/20 [00:00<00:00, 37.80it/s]\n"
     ]
    },
    {
     "name": "stdout",
     "output_type": "stream",
     "text": [
      "function , r2\n",
      "sin , 0.9997549653053284\n",
      "x^2 , 0.9992306232452393\n",
      "cosh , 0.9979138970375061\n",
      "gaussian , 0.997799813747406\n",
      "abs , 0.9377140402793884\n"
     ]
    },
    {
     "name": "stderr",
     "output_type": "stream",
     "text": [
      "train loss: 3.27e-07 | test loss: 3.27e-07 | reg: 1.07e-01 : 100%|██| 20/20 [00:00<00:00, 33.95it/s]\n"
     ]
    },
    {
     "name": "stdout",
     "output_type": "stream",
     "text": [
      "function , r2\n",
      "sin , 0.9990792274475098\n",
      "x^2 , 0.9983073472976685\n",
      "cosh , 0.9912197589874268\n",
      "gaussian , 0.9838365316390991\n",
      "abs , 0.9422998428344727\n"
     ]
    },
    {
     "name": "stderr",
     "output_type": "stream",
     "text": [
      "train loss: 2.87e-07 | test loss: 2.87e-07 | reg: 1.12e-01 : 100%|██| 20/20 [00:00<00:00, 36.86it/s]\n"
     ]
    },
    {
     "name": "stdout",
     "output_type": "stream",
     "text": [
      "function , r2\n",
      "sin , 0.9974242448806763\n",
      "gaussian , 0.9973312616348267\n",
      "x^2 , 0.997200071811676\n",
      "cosh , 0.9968913197517395\n",
      "abs , 0.9402046203613281\n"
     ]
    },
    {
     "name": "stderr",
     "output_type": "stream",
     "text": [
      "train loss: 3.09e-07 | test loss: 3.09e-07 | reg: 1.21e-01 : 100%|██| 20/20 [00:00<00:00, 39.14it/s]\n"
     ]
    },
    {
     "name": "stdout",
     "output_type": "stream",
     "text": [
      "function , r2\n",
      "cosh , 0.9964800477027893\n",
      "x^2 , 0.9963343739509583\n",
      "sin , 0.9959864020347595\n",
      "gaussian , 0.9956439137458801\n",
      "abs , 0.9297640919685364\n"
     ]
    },
    {
     "name": "stderr",
     "output_type": "stream",
     "text": [
      "train loss: 2.05e-06 | test loss: 2.05e-06 | reg: 2.57e-01 : 100%|██| 20/20 [00:00<00:00, 39.63it/s]\n"
     ]
    },
    {
     "name": "stdout",
     "output_type": "stream",
     "text": [
      "function , r2\n",
      "x^4 , 0.9999900460243225\n",
      "x^3 , 0.9999839663505554\n",
      "tanh , 0.9999814629554749\n",
      "cosh , 0.9999808073043823\n",
      "sigmoid , 0.9999732971191406\n"
     ]
    },
    {
     "name": "stderr",
     "output_type": "stream",
     "text": [
      "train loss: 1.80e-06 | test loss: 1.80e-06 | reg: 2.28e-01 : 100%|██| 20/20 [00:00<00:00, 36.95it/s]\n"
     ]
    },
    {
     "name": "stdout",
     "output_type": "stream",
     "text": [
      "function , r2\n",
      "cosh , 0.999967634677887\n",
      "gaussian , 0.9999465942382812\n",
      "x^2 , 0.9999383091926575\n",
      "x^3 , 0.9999352693557739\n",
      "tanh , 0.9999257326126099\n"
     ]
    },
    {
     "name": "stderr",
     "output_type": "stream",
     "text": [
      "train loss: 1.57e-06 | test loss: 1.57e-06 | reg: 2.00e-01 : 100%|██| 20/20 [00:00<00:00, 39.61it/s]\n"
     ]
    },
    {
     "name": "stdout",
     "output_type": "stream",
     "text": [
      "function , r2\n",
      "x^2 , 0.9999861717224121\n",
      "cosh , 0.9999809265136719\n",
      "sin , 0.9999337196350098\n",
      "gaussian , 0.9997633695602417\n",
      "tanh , 0.9996618628501892\n"
     ]
    },
    {
     "name": "stderr",
     "output_type": "stream",
     "text": [
      "train loss: 1.31e-06 | test loss: 1.31e-06 | reg: 1.74e-01 : 100%|██| 20/20 [00:00<00:00, 43.85it/s]\n"
     ]
    },
    {
     "name": "stdout",
     "output_type": "stream",
     "text": [
      "function , r2\n",
      "x^2 , 0.9999807476997375\n",
      "sin , 0.9999692440032959\n",
      "cosh , 0.9996538162231445\n",
      "gaussian , 0.9989100694656372\n",
      "tanh , 0.9985538721084595\n"
     ]
    },
    {
     "name": "stderr",
     "output_type": "stream",
     "text": [
      "train loss: 1.08e-06 | test loss: 1.08e-06 | reg: 1.50e-01 : 100%|██| 20/20 [00:00<00:00, 44.67it/s]\n"
     ]
    },
    {
     "name": "stdout",
     "output_type": "stream",
     "text": [
      "function , r2\n",
      "sin , 0.9999731183052063\n",
      "gaussian , 0.9999253749847412\n",
      "x^2 , 0.9998627305030823\n",
      "cosh , 0.9996562600135803\n",
      "tanh , 0.9942789673805237\n"
     ]
    },
    {
     "name": "stderr",
     "output_type": "stream",
     "text": [
      "train loss: 8.36e-07 | test loss: 8.36e-07 | reg: 1.28e-01 : 100%|██| 20/20 [00:00<00:00, 37.37it/s]\n"
     ]
    },
    {
     "name": "stdout",
     "output_type": "stream",
     "text": [
      "function , r2\n",
      "sin , 0.9999428391456604\n",
      "gaussian , 0.9999094009399414\n",
      "x^2 , 0.9995195269584656\n",
      "cosh , 0.9978922009468079\n",
      "tanh , 0.9795185327529907\n"
     ]
    },
    {
     "name": "stderr",
     "output_type": "stream",
     "text": [
      "train loss: 6.02e-07 | test loss: 6.02e-07 | reg: 1.10e-01 : 100%|██| 20/20 [00:00<00:00, 37.56it/s]\n"
     ]
    },
    {
     "name": "stdout",
     "output_type": "stream",
     "text": [
      "function , r2\n",
      "sin , 0.9998138546943665\n",
      "gaussian , 0.9997873902320862\n",
      "x^2 , 0.998761773109436\n",
      "cosh , 0.9982634782791138\n",
      "abs , 0.9422873854637146\n"
     ]
    },
    {
     "name": "stderr",
     "output_type": "stream",
     "text": [
      "train loss: 3.95e-07 | test loss: 3.95e-07 | reg: 1.02e-01 : 100%|██| 20/20 [00:00<00:00, 38.63it/s]\n"
     ]
    },
    {
     "name": "stdout",
     "output_type": "stream",
     "text": [
      "function , r2\n",
      "sin , 0.9992998242378235\n",
      "gaussian , 0.9987375736236572\n",
      "x^2 , 0.9973756670951843\n",
      "cosh , 0.9952549338340759\n",
      "abs , 0.945526123046875\n"
     ]
    },
    {
     "name": "stderr",
     "output_type": "stream",
     "text": [
      "train loss: 2.41e-07 | test loss: 2.41e-07 | reg: 1.00e-01 : 100%|██| 20/20 [00:00<00:00, 39.00it/s]\n"
     ]
    },
    {
     "name": "stdout",
     "output_type": "stream",
     "text": [
      "function , r2\n",
      "sin , 0.9974730014801025\n",
      "x^2 , 0.99542236328125\n",
      "gaussian , 0.9867520928382874\n",
      "cosh , 0.986582338809967\n",
      "abs , 0.946847677230835\n"
     ]
    },
    {
     "name": "stderr",
     "output_type": "stream",
     "text": [
      "train loss: 2.99e-07 | test loss: 2.99e-07 | reg: 1.05e-01 : 100%|██| 20/20 [00:00<00:00, 42.52it/s]\n"
     ]
    },
    {
     "name": "stdout",
     "output_type": "stream",
     "text": [
      "function , r2\n",
      "sin , 0.9938674569129944\n",
      "gaussian , 0.9937912821769714\n",
      "x^2 , 0.9936060905456543\n",
      "cosh , 0.9932430982589722\n",
      "abs , 0.9381967186927795\n"
     ]
    },
    {
     "name": "stderr",
     "output_type": "stream",
     "text": [
      "train loss: 4.70e-07 | test loss: 4.70e-07 | reg: 1.16e-01 : 100%|██| 20/20 [00:00<00:00, 37.83it/s]\n"
     ]
    },
    {
     "name": "stdout",
     "output_type": "stream",
     "text": [
      "function , r2\n",
      "x^2 , 0.992730975151062\n",
      "sin , 0.9922831058502197\n",
      "gaussian , 0.9916990995407104\n",
      "cosh , 0.9856394529342651\n",
      "abs , 0.9212248921394348\n"
     ]
    },
    {
     "name": "stderr",
     "output_type": "stream",
     "text": [
      "train loss: 1.86e-06 | test loss: 1.86e-06 | reg: 2.53e-01 : 100%|██| 20/20 [00:00<00:00, 48.54it/s]\n"
     ]
    },
    {
     "name": "stdout",
     "output_type": "stream",
     "text": [
      "function , r2\n",
      "cosh , 0.9999890923500061\n",
      "x^2 , 0.99998539686203\n",
      "tanh , 0.9999764561653137\n",
      "x^3 , 0.9999762773513794\n",
      "sigmoid , 0.9999720454216003\n"
     ]
    },
    {
     "name": "stderr",
     "output_type": "stream",
     "text": [
      "train loss: 1.62e-06 | test loss: 1.62e-06 | reg: 2.24e-01 : 100%|██| 20/20 [00:00<00:00, 36.49it/s]\n"
     ]
    },
    {
     "name": "stdout",
     "output_type": "stream",
     "text": [
      "function , r2\n",
      "x^2 , 0.9999876022338867\n",
      "sin , 0.9999815225601196\n",
      "cosh , 0.999955415725708\n",
      "gaussian , 0.9999386668205261\n",
      "tanh , 0.9999181628227234\n"
     ]
    },
    {
     "name": "stderr",
     "output_type": "stream",
     "text": [
      "train loss: 1.39e-06 | test loss: 1.39e-06 | reg: 1.96e-01 : 100%|██| 20/20 [00:00<00:00, 38.88it/s]\n"
     ]
    },
    {
     "name": "stdout",
     "output_type": "stream",
     "text": [
      "function , r2\n",
      "sin , 0.9999863505363464\n",
      "gaussian , 0.9999647736549377\n",
      "x^2 , 0.9999219179153442\n",
      "tanh , 0.9996707439422607\n",
      "sigmoid , 0.9996693134307861\n"
     ]
    },
    {
     "name": "stderr",
     "output_type": "stream",
     "text": [
      "train loss: 1.16e-06 | test loss: 1.16e-06 | reg: 1.69e-01 : 100%|██| 20/20 [00:00<00:00, 46.42it/s]\n"
     ]
    },
    {
     "name": "stdout",
     "output_type": "stream",
     "text": [
      "function , r2\n",
      "sin , 0.9999806880950928\n",
      "x^2 , 0.9997264742851257\n",
      "cosh , 0.9993475079536438\n",
      "gaussian , 0.998957633972168\n",
      "tanh , 0.9986547827720642\n"
     ]
    },
    {
     "name": "stderr",
     "output_type": "stream",
     "text": [
      "train loss: 9.09e-07 | test loss: 9.09e-07 | reg: 1.44e-01 : 100%|██| 20/20 [00:00<00:00, 42.03it/s]\n"
     ]
    },
    {
     "name": "stdout",
     "output_type": "stream",
     "text": [
      "function , r2\n",
      "sin , 0.9999589323997498\n",
      "gaussian , 0.999949038028717\n",
      "x^2 , 0.9992832541465759\n",
      "cosh , 0.9988743662834167\n",
      "tanh , 0.9946618676185608\n"
     ]
    },
    {
     "name": "stderr",
     "output_type": "stream",
     "text": [
      "train loss: 6.76e-07 | test loss: 6.76e-07 | reg: 1.22e-01 : 100%|██| 20/20 [00:00<00:00, 38.80it/s]\n"
     ]
    },
    {
     "name": "stdout",
     "output_type": "stream",
     "text": [
      "function , r2\n",
      "sin , 0.9998827576637268\n",
      "gaussian , 0.9998784065246582\n",
      "x^2 , 0.9983744621276855\n",
      "cosh , 0.9979462027549744\n",
      "tanh , 0.9802091121673584\n"
     ]
    },
    {
     "name": "stderr",
     "output_type": "stream",
     "text": [
      "train loss: 4.66e-07 | test loss: 4.66e-07 | reg: 1.04e-01 : 100%|██| 20/20 [00:00<00:00, 43.31it/s]\n"
     ]
    },
    {
     "name": "stdout",
     "output_type": "stream",
     "text": [
      "function , r2\n",
      "gaussian , 0.9995979070663452\n",
      "sin , 0.99959397315979\n",
      "x^2 , 0.9966496229171753\n",
      "cosh , 0.9958799481391907\n",
      "abs , 0.951285183429718\n"
     ]
    },
    {
     "name": "stderr",
     "output_type": "stream",
     "text": [
      "train loss: 3.07e-07 | test loss: 3.07e-07 | reg: 9.48e-02 : 100%|██| 20/20 [00:00<00:00, 36.47it/s]\n"
     ]
    },
    {
     "name": "stdout",
     "output_type": "stream",
     "text": [
      "function , r2\n",
      "sin , 0.9984510540962219\n",
      "gaussian , 0.9959579110145569\n",
      "x^2 , 0.9937822222709656\n",
      "cosh , 0.9907205104827881\n",
      "abs , 0.953465461730957\n"
     ]
    },
    {
     "name": "stderr",
     "output_type": "stream",
     "text": [
      "train loss: 3.02e-07 | test loss: 3.02e-07 | reg: 9.38e-02 : 100%|██| 20/20 [00:00<00:00, 38.52it/s]\n"
     ]
    },
    {
     "name": "stdout",
     "output_type": "stream",
     "text": [
      "function , r2\n",
      "sin , 0.9943904280662537\n",
      "x^2 , 0.990205705165863\n",
      "gaussian , 0.9877625703811646\n",
      "cosh , 0.976122260093689\n",
      "abs , 0.9497421979904175\n"
     ]
    },
    {
     "name": "stderr",
     "output_type": "stream",
     "text": [
      "train loss: 4.48e-07 | test loss: 4.48e-07 | reg: 9.92e-02 : 100%|██| 20/20 [00:00<00:00, 38.11it/s]\n"
     ]
    },
    {
     "name": "stdout",
     "output_type": "stream",
     "text": [
      "function , r2\n",
      "x^2 , 0.9876754879951477\n",
      "gaussian , 0.9876450896263123\n",
      "sin , 0.9874566197395325\n",
      "cosh , 0.9873764514923096\n",
      "abs , 0.9320315718650818\n"
     ]
    },
    {
     "name": "stderr",
     "output_type": "stream",
     "text": [
      "train loss: 6.46e-07 | test loss: 6.46e-07 | reg: 1.11e-01 : 100%|██| 20/20 [00:00<00:00, 50.00it/s]\n"
     ]
    },
    {
     "name": "stdout",
     "output_type": "stream",
     "text": [
      "function , r2\n",
      "x^2 , 0.9873684644699097\n",
      "sin , 0.9867106080055237\n",
      "cosh , 0.9863604307174683\n",
      "gaussian , 0.985936164855957\n",
      "x^4 , 0.9239131808280945\n"
     ]
    },
    {
     "name": "stderr",
     "output_type": "stream",
     "text": [
      "train loss: 1.69e-06 | test loss: 1.69e-06 | reg: 2.50e-01 : 100%|██| 20/20 [00:00<00:00, 31.83it/s]\n"
     ]
    },
    {
     "name": "stdout",
     "output_type": "stream",
     "text": [
      "function , r2\n",
      "sin , 0.9999911785125732\n",
      "tanh , 0.9999727010726929\n",
      "sigmoid , 0.9999706745147705\n",
      "gaussian , 0.9999555945396423\n",
      "x^2 , 0.9999528527259827\n"
     ]
    },
    {
     "name": "stderr",
     "output_type": "stream",
     "text": [
      "train loss: 1.45e-06 | test loss: 1.45e-06 | reg: 2.20e-01 : 100%|██| 20/20 [00:00<00:00, 38.30it/s]\n"
     ]
    },
    {
     "name": "stdout",
     "output_type": "stream",
     "text": [
      "function , r2\n",
      "sin , 0.9999904036521912\n",
      "gaussian , 0.9999315142631531\n",
      "tanh , 0.9999148845672607\n",
      "sigmoid , 0.9999133944511414\n",
      "x^2 , 0.9998382329940796\n"
     ]
    },
    {
     "name": "stderr",
     "output_type": "stream",
     "text": [
      "train loss: 1.21e-06 | test loss: 1.21e-06 | reg: 1.92e-01 : 100%|██| 20/20 [00:00<00:00, 41.34it/s]\n"
     ]
    },
    {
     "name": "stdout",
     "output_type": "stream",
     "text": [
      "function , r2\n",
      "sin , 0.9999865889549255\n",
      "gaussian , 0.9997520446777344\n",
      "tanh , 0.9996843934059143\n",
      "sigmoid , 0.9996832609176636\n",
      "x^2 , 0.9995861649513245\n"
     ]
    },
    {
     "name": "stderr",
     "output_type": "stream",
     "text": [
      "train loss: 9.75e-07 | test loss: 9.75e-07 | reg: 1.65e-01 :  65%|█▎| 13/20 [00:00<00:00, 40.90it/s]"
     ]
    }
   ],
   "source": [
    "# let's do a phase diagram, which looks quite \"fractal\"\n",
    "num = 11\n",
    "a_arr = np.linspace(0,1,num=num)\n",
    "b_arr = np.linspace(0,1,num=num)\n",
    "sf_mat = np.empty((num,num), dtype='U8')\n",
    "\n",
    "for i in range(num):\n",
    "    for j in range(num):\n",
    "        a = a_arr[i]; b = b_arr[j]\n",
    "        sf_mat[i,j] = mix(a, b)"
   ]
  },
  {
   "cell_type": "code",
   "execution_count": null,
   "id": "7c60506b",
   "metadata": {},
   "outputs": [
    {
     "data": {
      "text/plain": [
       "<matplotlib.image.AxesImage at 0x1ffe067a480>"
      ]
     },
     "execution_count": 26,
     "metadata": {},
     "output_type": "execute_result"
    },
    {
     "data": {
      "image/png": "[encoded data removed]",
      "text/plain": [
       "<Figure size 640x480 with 1 Axes>"
      ]
     },
     "metadata": {},
     "output_type": "display_data"
    }
   ],
   "source": [
    "classes = list(set(sf_mat.reshape(-1,)))\n",
    "n_class = len(classes)\n",
    "\n",
    "colors = np.random.rand(n_class,4)\n",
    "dic = {}\n",
    "for i in range(n_class):\n",
    "    dic[classes[i]] = colors[i]\n",
    "    \n",
    "\n",
    "img = np.zeros((num,num,4))\n",
    "for i in range(num):\n",
    "    for j in range(num):\n",
    "        img[i][j] = dic[sf_mat[i][j]]\n",
    "plt.imshow(img)"
   ]
  },
  {
   "cell_type": "markdown",
   "id": "16bfe1f1",
   "metadata": {},
   "source": [
    "Does this mean symbolic regression is screwed? The hope is that by incorporating reasonable inductive biases (hence reducing the symbolic search space), SR will become more robust."
   ]
  },
  {
   "cell_type": "code",
   "execution_count": null,
   "id": "39598bda",
   "metadata": {},
   "outputs": [
    {
     "data": {
      "text/plain": [
       "dict_keys(['x', 'x^2', 'x^3', 'x^4', '1/x', '1/x^2', '1/x^3', '1/x^4', 'sqrt', '1/sqrt(x)', 'exp', 'log', 'abs', 'sin', 'tan', 'tanh', 'sigmoid', 'sgn', 'arcsin', 'arctan', 'arctanh', '0', 'gaussian', 'cosh'])"
      ]
     },
     "execution_count": 27,
     "metadata": {},
     "output_type": "execute_result"
    }
   ],
   "source": [
    "# we have used the default symbolic library whch contains the following functions\n",
    "SYMBOLIC_LIB.keys()"
   ]
  },
  {
   "cell_type": "code",
   "execution_count": null,
   "id": "61234166",
   "metadata": {},
   "outputs": [],
   "source": [
    "# we may constrain to a smaller library (pass as parameter \"lib=lib\" in suggest_symbolic)\n",
    "lib = ['exp', 'x^2', 'sin']\n",
    "def mix(a, b, bound=1):\n",
    "    num_pts = 101\n",
    "    x = torch.linspace(-bound,bound,steps=num_pts)\n",
    "    x = x[:,None]\n",
    "    y = a * torch.sin(x) + b * x**2 + (1-a-b) * torch.exp(x)\n",
    "    dataset = {}\n",
    "    dataset['train_input'] = dataset['test_input'] = x\n",
    "    dataset['train_label'] = dataset['test_label'] = y\n",
    "    model = KAN(width=[1,1], grid=10, k=3, seed=0, grid_range=(-bound,bound))\n",
    "    model.train(dataset, opt=\"LBFGS\", steps=20)\n",
    "    return model.suggest_symbolic(0,0,0,lib=lib)[0]\n"
   ]
  },
  {
   "cell_type": "code",
   "execution_count": null,
   "id": "908b77ea",
   "metadata": {},
   "outputs": [
    {
     "name": "stderr",
     "output_type": "stream",
     "text": [
      "train loss: 6.02e-08 | test loss: 6.02e-08 | reg: 2.58e-01 : 100%|██| 20/20 [00:00<00:00, 40.38it/s]\n"
     ]
    },
    {
     "name": "stdout",
     "output_type": "stream",
     "text": [
      "function , r2\n",
      "exp , 1.0000003576278687\n",
      "x^2 , 0.9999846816062927\n",
      "sin , 0.9999200701713562\n"
     ]
    },
    {
     "name": "stderr",
     "output_type": "stream",
     "text": [
      "train loss: 8.53e-08 | test loss: 8.53e-08 | reg: 2.31e-01 : 100%|██| 20/20 [00:00<00:00, 41.41it/s]\n"
     ]
    },
    {
     "name": "stdout",
     "output_type": "stream",
     "text": [
      "function , r2\n",
      "exp , 0.9999967217445374\n",
      "x^2 , 0.9999846816062927\n",
      "sin , 0.999906063079834\n"
     ]
    },
    {
     "name": "stderr",
     "output_type": "stream",
     "text": [
      "train loss: 4.93e-08 | test loss: 4.93e-08 | reg: 2.03e-01 : 100%|██| 20/20 [00:00<00:00, 41.89it/s]\n"
     ]
    },
    {
     "name": "stdout",
     "output_type": "stream",
     "text": [
      "function , r2\n",
      "x^2 , 0.999984860420227\n",
      "exp , 0.9999766945838928\n",
      "sin , 0.9998868703842163\n"
     ]
    },
    {
     "name": "stderr",
     "output_type": "stream",
     "text": [
      "train loss: 5.00e-08 | test loss: 5.00e-08 | reg: 1.77e-01 : 100%|██| 20/20 [00:00<00:00, 43.22it/s]\n"
     ]
    },
    {
     "name": "stdout",
     "output_type": "stream",
     "text": [
      "function , r2\n",
      "x^2 , 0.9999847412109375\n",
      "exp , 0.9999104142189026\n",
      "sin , 0.9998597502708435\n"
     ]
    },
    {
     "name": "stderr",
     "output_type": "stream",
     "text": [
      "train loss: 4.23e-08 | test loss: 4.23e-08 | reg: 1.50e-01 : 100%|██| 20/20 [00:00<00:00, 50.58it/s]\n"
     ]
    },
    {
     "name": "stdout",
     "output_type": "stream",
     "text": [
      "function , r2\n",
      "x^2 , 0.9999850392341614\n",
      "sin , 0.9998199343681335\n",
      "exp , 0.9997116923332214\n"
     ]
    },
    {
     "name": "stderr",
     "output_type": "stream",
     "text": [
      "train loss: 6.63e-08 | test loss: 6.63e-08 | reg: 1.24e-01 : 100%|██| 20/20 [00:03<00:00,  6.14it/s]\n"
     ]
    },
    {
     "name": "stdout",
     "output_type": "stream",
     "text": [
      "function , r2\n",
      "x^2 , 0.9999852776527405\n",
      "sin , 0.9997579455375671\n",
      "exp , 0.9991052150726318\n"
     ]
    },
    {
     "name": "stderr",
     "output_type": "stream",
     "text": [
      "train loss: 3.05e-08 | test loss: 3.05e-08 | reg: 9.83e-02 : 100%|██| 20/20 [00:02<00:00,  9.78it/s]\n"
     ]
    },
    {
     "name": "stdout",
     "output_type": "stream",
     "text": [
      "function , r2\n",
      "x^2 , 0.999985933303833\n",
      "sin , 0.9996548891067505\n",
      "exp , 0.9971045255661011\n"
     ]
    },
    {
     "name": "stderr",
     "output_type": "stream",
     "text": [
      "train loss: 5.92e-08 | test loss: 5.92e-08 | reg: 7.39e-02 : 100%|██| 20/20 [00:02<00:00,  9.02it/s]\n"
     ]
    },
    {
     "name": "stdout",
     "output_type": "stream",
     "text": [
      "function , r2\n",
      "x^2 , 0.9999871253967285\n",
      "sin , 0.9994735717773438\n",
      "exp , 0.989564836025238\n"
     ]
    },
    {
     "name": "stderr",
     "output_type": "stream",
     "text": [
      "train loss: 1.85e-08 | test loss: 1.85e-08 | reg: 5.19e-02 : 100%|██| 20/20 [00:02<00:00,  9.59it/s]\n"
     ]
    },
    {
     "name": "stdout",
     "output_type": "stream",
     "text": [
      "function , r2\n",
      "x^2 , 0.9999894499778748\n",
      "sin , 0.9991207718849182\n",
      "exp , 0.9559776186943054\n"
     ]
    },
    {
     "name": "stderr",
     "output_type": "stream",
     "text": [
      "train loss: 1.79e-08 | test loss: 1.79e-08 | reg: 3.99e-02 : 100%|██| 20/20 [00:02<00:00,  8.76it/s]\n"
     ]
    },
    {
     "name": "stdout",
     "output_type": "stream",
     "text": [
      "function , r2\n",
      "x^2 , 0.999992847442627\n",
      "sin , 0.9987168908119202\n",
      "exp , 0.7906889319419861\n"
     ]
    },
    {
     "name": "stderr",
     "output_type": "stream",
     "text": [
      "train loss: 1.53e-08 | test loss: 1.53e-08 | reg: 3.92e-02 : 100%|██| 20/20 [00:01<00:00, 10.16it/s]\n"
     ]
    },
    {
     "name": "stdout",
     "output_type": "stream",
     "text": [
      "function , r2\n",
      "x^2 , 0.9999985694885254\n",
      "sin , 0.9975490570068359\n",
      "exp , 0.2695852816104889\n"
     ]
    },
    {
     "name": "stderr",
     "output_type": "stream",
     "text": [
      "description:   0%|                                                           | 0/20 [00:00<?, ?it/s]"
     ]
    }
   ],
   "source": [
    "# we can redo the analysis for a more contrained (bound) region. The phase diagram becomes even more \"fractal\"\n",
    "num = 11\n",
    "a_arr = np.linspace(0,1,num=num)\n",
    "b_arr = np.linspace(0,1,num=num)\n",
    "sf_mat = np.empty((num,num), dtype='U8')\n",
    "\n",
    "for i in range(num):\n",
    "    for j in range(num):\n",
    "        a = a_arr[i]; b = b_arr[j]\n",
    "        sf_mat[i,j] = mix(a, b, bound=0.3)"
   ]
  },
  {
   "cell_type": "code",
   "execution_count": null,
   "id": "759c31f7",
   "metadata": {},
   "outputs": [
    {
     "data": {
      "text/plain": [
       "<matplotlib.image.AxesImage at 0x1d9485f0500>"
      ]
     },
     "execution_count": 30,
     "metadata": {},
     "output_type": "execute_result"
    },
    {
     "data": {
      "image/png": "[encoded data removed]",
      "text/plain": [
       "<Figure size 640x480 with 1 Axes>"
      ]
     },
     "metadata": {},
     "output_type": "display_data"
    }
   ],
   "source": [
    "classes = list(set(sf_mat.reshape(-1,)))\n",
    "n_class = len(classes)\n",
    "\n",
    "colors = np.random.rand(n_class,4)\n",
    "dic = {}\n",
    "for i in range(n_class):\n",
    "    dic[classes[i]] = colors[i]\n",
    "    \n",
    "\n",
    "img = np.zeros((num,num,4))\n",
    "for i in range(num):\n",
    "    for j in range(num):\n",
    "        img[i][j] = dic[sf_mat[i][j]]\n",
    "plt.imshow(img)"
   ]
  }
 ],
 "metadata": {
  "kernelspec": {
   "display_name": "Python 3 (ipykernel)",
   "language": "python",
   "name": "python3"
  },
  "language_info": {
   "codemirror_mode": {
    "name": "ipython",
    "version": 3
   },
   "file_extension": ".py",
   "mimetype": "text/x-python",
   "name": "python",
   "nbconvert_exporter": "python",
   "pygments_lexer": "ipython3",
   "version": "3.12.3"
  }
 },
 "nbformat": 4,
 "nbformat_minor": 5
}
