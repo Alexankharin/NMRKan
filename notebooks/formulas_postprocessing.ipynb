{
 "cells": [
  {
   "cell_type": "markdown",
   "id": "f7e5656c",
   "metadata": {},
   "source": [
    "# Load and Inspect pareto_trials.pkl\n",
    "We will load the `pareto_trials.pkl` file and inspect its structure to understand how formulas and coefficients are stored."
   ]
  },
  {
   "cell_type": "code",
   "execution_count": 1,
   "id": "4d3fa9a1",
   "metadata": {},
   "outputs": [],
   "source": [
    "import pickle\n",
    "import pandas as pd\n",
    "import numpy as np\n",
    "import sympy as sp"
   ]
  },
  {
   "cell_type": "code",
   "execution_count": 2,
   "id": "b5d0c9cd",
   "metadata": {},
   "outputs": [
    {
     "data": {
      "application/vnd.microsoft.datawrangler.viewer.v0+json": {
       "columns": [
        {
         "name": "index",
         "rawType": "int64",
         "type": "integer"
        },
        {
         "name": "layers",
         "rawType": "int64",
         "type": "integer"
        },
        {
         "name": "units",
         "rawType": "object",
         "type": "unknown"
        },
        {
         "name": "total_neurons",
         "rawType": "int64",
         "type": "integer"
        },
        {
         "name": "mse",
         "rawType": "float64",
         "type": "float"
        },
        {
         "name": "complexity",
         "rawType": "float64",
         "type": "float"
        },
        {
         "name": "expr0",
         "rawType": "object",
         "type": "unknown"
        },
        {
         "name": "expr1",
         "rawType": "object",
         "type": "unknown"
        },
        {
         "name": "expr2",
         "rawType": "object",
         "type": "unknown"
        }
       ],
       "ref": "02bc6325-6036-4a24-bf7c-d36f28740590",
       "rows": [
        [
         "0",
         "1",
         "[7]",
         "7",
         "1.8449509298079647e-06",
         "40.0",
         "-0.01*x_1/x_0**1.0 + 0.09*x_1**2.0/x_0**1.0 - 0.01*x_0 - 0.65*x_1 + 0.01*x_1**2.0 + 0.01",
         "-0.01*x_1/x_0**1.0 + 0.05*x_1**2.0/x_0**1.0 - 1.4*x_1 + 0.01*x_1**2.0 + 0.01",
         "-0.04*x_1**2.0/x_0**1.0 - 0.75*x_1 - 0.01*x_1**2.0"
        ],
        [
         "1",
         "2",
         "[8, 3]",
         "11",
         "1.6193322153412737e-05",
         "33.0",
         "0.02*x_1**2.0/x_0**1.0 - 0.02*x_0 - 0.64*x_1 - 0.28*x_1**2.0",
         "0.01*x_1**2.0/x_0**1.0 - 0.01*x_0 - 1.39*x_1 - 0.14*x_1**2.0",
         "-0.01*x_1**2.0/x_0**1.0 + 0.01*x_0 - 0.75*x_1 + 0.14*x_1**2.0"
        ],
        [
         "2",
         "1",
         "[2]",
         "2",
         "1.8784547137329355e-05",
         "20.0",
         "-0.01*x_1/x_0**1.0 - 0.03*x_0 - 0.51*x_1 + 0.02",
         "-0.01*x_1/x_0**1.0 - 0.01*x_0 - 1.33*x_1 + 0.01",
         "0.01*x_0 - 0.82*x_1 - 0.01"
        ],
        [
         "3",
         "2",
         "[3, 3]",
         "6",
         "2.4850773115758784e-05",
         "17.0",
         "-0.01*x_1/x_0**1.0 + 0.01*x_0**2.0 - 0.58*x_1 + 0.01",
         "-0.01*x_1/x_0**1.0 - 1.36*x_1 + 0.01",
         "-0.78*x_1"
        ],
        [
         "4",
         "1",
         "[3]",
         "3",
         "6.896652485011145e-05",
         "8.0",
         "-0.63*x_1 - 0.01",
         "-1.39*x_1 - 0.01",
         "0.01 - 0.76*x_1"
        ]
       ],
       "shape": {
        "columns": 8,
        "rows": 5
       }
      },
      "text/html": [
       "<div>\n",
       "<style scoped>\n",
       "    .dataframe tbody tr th:only-of-type {\n",
       "        vertical-align: middle;\n",
       "    }\n",
       "\n",
       "    .dataframe tbody tr th {\n",
       "        vertical-align: top;\n",
       "    }\n",
       "\n",
       "    .dataframe thead th {\n",
       "        text-align: right;\n",
       "    }\n",
       "</style>\n",
       "<table border=\"1\" class=\"dataframe\">\n",
       "  <thead>\n",
       "    <tr style=\"text-align: right;\">\n",
       "      <th></th>\n",
       "      <th>layers</th>\n",
       "      <th>units</th>\n",
       "      <th>total_neurons</th>\n",
       "      <th>mse</th>\n",
       "      <th>complexity</th>\n",
       "      <th>expr0</th>\n",
       "      <th>expr1</th>\n",
       "      <th>expr2</th>\n",
       "    </tr>\n",
       "  </thead>\n",
       "  <tbody>\n",
       "    <tr>\n",
       "      <th>0</th>\n",
       "      <td>1</td>\n",
       "      <td>[7]</td>\n",
       "      <td>7</td>\n",
       "      <td>0.000002</td>\n",
       "      <td>40.0</td>\n",
       "      <td>-0.01*x_1/x_0**1.0 + 0.09*x_1**2.0/x_0**1.0 - ...</td>\n",
       "      <td>-0.01*x_1/x_0**1.0 + 0.05*x_1**2.0/x_0**1.0 - ...</td>\n",
       "      <td>-0.04*x_1**2.0/x_0**1.0 - 0.75*x_1 - 0.01*x_1*...</td>\n",
       "    </tr>\n",
       "    <tr>\n",
       "      <th>1</th>\n",
       "      <td>2</td>\n",
       "      <td>[8, 3]</td>\n",
       "      <td>11</td>\n",
       "      <td>0.000016</td>\n",
       "      <td>33.0</td>\n",
       "      <td>0.02*x_1**2.0/x_0**1.0 - 0.02*x_0 - 0.64*x_1 -...</td>\n",
       "      <td>0.01*x_1**2.0/x_0**1.0 - 0.01*x_0 - 1.39*x_1 -...</td>\n",
       "      <td>-0.01*x_1**2.0/x_0**1.0 + 0.01*x_0 - 0.75*x_1 ...</td>\n",
       "    </tr>\n",
       "    <tr>\n",
       "      <th>2</th>\n",
       "      <td>1</td>\n",
       "      <td>[2]</td>\n",
       "      <td>2</td>\n",
       "      <td>0.000019</td>\n",
       "      <td>20.0</td>\n",
       "      <td>-0.01*x_1/x_0**1.0 - 0.03*x_0 - 0.51*x_1 + 0.02</td>\n",
       "      <td>-0.01*x_1/x_0**1.0 - 0.01*x_0 - 1.33*x_1 + 0.01</td>\n",
       "      <td>0.01*x_0 - 0.82*x_1 - 0.01</td>\n",
       "    </tr>\n",
       "    <tr>\n",
       "      <th>3</th>\n",
       "      <td>2</td>\n",
       "      <td>[3, 3]</td>\n",
       "      <td>6</td>\n",
       "      <td>0.000025</td>\n",
       "      <td>17.0</td>\n",
       "      <td>-0.01*x_1/x_0**1.0 + 0.01*x_0**2.0 - 0.58*x_1 ...</td>\n",
       "      <td>-0.01*x_1/x_0**1.0 - 1.36*x_1 + 0.01</td>\n",
       "      <td>-0.78*x_1</td>\n",
       "    </tr>\n",
       "    <tr>\n",
       "      <th>4</th>\n",
       "      <td>1</td>\n",
       "      <td>[3]</td>\n",
       "      <td>3</td>\n",
       "      <td>0.000069</td>\n",
       "      <td>8.0</td>\n",
       "      <td>-0.63*x_1 - 0.01</td>\n",
       "      <td>-1.39*x_1 - 0.01</td>\n",
       "      <td>0.01 - 0.76*x_1</td>\n",
       "    </tr>\n",
       "  </tbody>\n",
       "</table>\n",
       "</div>"
      ],
      "text/plain": [
       "   layers   units  total_neurons       mse  complexity  \\\n",
       "0       1     [7]              7  0.000002        40.0   \n",
       "1       2  [8, 3]             11  0.000016        33.0   \n",
       "2       1     [2]              2  0.000019        20.0   \n",
       "3       2  [3, 3]              6  0.000025        17.0   \n",
       "4       1     [3]              3  0.000069         8.0   \n",
       "\n",
       "                                               expr0  \\\n",
       "0  -0.01*x_1/x_0**1.0 + 0.09*x_1**2.0/x_0**1.0 - ...   \n",
       "1  0.02*x_1**2.0/x_0**1.0 - 0.02*x_0 - 0.64*x_1 -...   \n",
       "2    -0.01*x_1/x_0**1.0 - 0.03*x_0 - 0.51*x_1 + 0.02   \n",
       "3  -0.01*x_1/x_0**1.0 + 0.01*x_0**2.0 - 0.58*x_1 ...   \n",
       "4                                   -0.63*x_1 - 0.01   \n",
       "\n",
       "                                               expr1  \\\n",
       "0  -0.01*x_1/x_0**1.0 + 0.05*x_1**2.0/x_0**1.0 - ...   \n",
       "1  0.01*x_1**2.0/x_0**1.0 - 0.01*x_0 - 1.39*x_1 -...   \n",
       "2    -0.01*x_1/x_0**1.0 - 0.01*x_0 - 1.33*x_1 + 0.01   \n",
       "3               -0.01*x_1/x_0**1.0 - 1.36*x_1 + 0.01   \n",
       "4                                   -1.39*x_1 - 0.01   \n",
       "\n",
       "                                               expr2  \n",
       "0  -0.04*x_1**2.0/x_0**1.0 - 0.75*x_1 - 0.01*x_1*...  \n",
       "1  -0.01*x_1**2.0/x_0**1.0 + 0.01*x_0 - 0.75*x_1 ...  \n",
       "2                         0.01*x_0 - 0.82*x_1 - 0.01  \n",
       "3                                          -0.78*x_1  \n",
       "4                                    0.01 - 0.76*x_1  "
      ]
     },
     "metadata": {},
     "output_type": "display_data"
    }
   ],
   "source": [
    "# Load the pickle file\n",
    "with open('../pareto_trials.pkl', 'rb') as f:\n",
    "    data = pickle.load(f)\n",
    "\n",
    "# Display the type and a sample\n",
    "display(data.head())"
   ]
  },
  {
   "cell_type": "code",
   "execution_count": 3,
   "id": "403565f5",
   "metadata": {},
   "outputs": [],
   "source": [
    "def expr_round(expr:str, threshold:float=0.01) -> str:\n",
    "    \"\"\"\n",
    "    selects all numbers in the expression and zero them if absolute value is below the threshold\n",
    "    works on string representation of sympy expression\n",
    "    \"\"\"\n",
    "    expr = sp.sympify(expr)\n",
    "    for n in expr.atoms(sp.Number):\n",
    "        if abs(n) < threshold:\n",
    "            expr = expr.subs(n, 0)\n",
    "    return expr"
   ]
  },
  {
   "cell_type": "code",
   "execution_count": 24,
   "id": "dbf22d0c",
   "metadata": {},
   "outputs": [
    {
     "name": "stdout",
     "output_type": "stream",
     "text": [
      "Trial 0: -0.04*x_1**2.0/x_0**1.0 - 0.75*x_1\n",
      "Trial 1: -0.75*x_1 + 0.14*x_1**2.0\n",
      "Trial 2: -0.82*x_1\n",
      "Trial 3: -0.78*x_1\n",
      "Trial 4: -0.76*x_1\n"
     ]
    }
   ],
   "source": [
    "# print expressions for all trials\n",
    "for i, row in data.iterrows():\n",
    "    expr = row['expr2']\n",
    "    expr = expr_round(expr, threshold=0.02)\n",
    "    # show the expression in native sympy format\n",
    "    print(f\"Trial {i}: {expr}\")"
   ]
  },
  {
   "cell_type": "code",
   "execution_count": 17,
   "id": "cc1f3914",
   "metadata": {},
   "outputs": [
    {
     "data": {
      "text/plain": [
       "1.4142135623730951"
      ]
     },
     "execution_count": 17,
     "metadata": {},
     "output_type": "execute_result"
    }
   ],
   "source": [
    "2**.5"
   ]
  },
  {
   "cell_type": "code",
   "execution_count": 20,
   "id": "8d6bd0ec",
   "metadata": {},
   "outputs": [
    {
     "data": {
      "text/plain": [
       "0.125"
      ]
     },
     "execution_count": 20,
     "metadata": {},
     "output_type": "execute_result"
    }
   ],
   "source": [
    "1/8"
   ]
  },
  {
   "cell_type": "code",
   "execution_count": 16,
   "id": "cb9b406c",
   "metadata": {},
   "outputs": [
    {
     "data": {
      "text/plain": [
       "0.7071067811865475"
      ]
     },
     "execution_count": 16,
     "metadata": {},
     "output_type": "execute_result"
    }
   ],
   "source": [
    "1/2**0.5"
   ]
  },
  {
   "cell_type": "markdown",
   "id": "e805d308",
   "metadata": {},
   "source": [
    "# Identify and Simplify Formulas\n",
    "We will identify where the formulas and their coefficients are stored, and zero out coefficients that are below a threshold (e.g., 1e-3)."
   ]
  },
  {
   "cell_type": "code",
   "execution_count": 25,
   "id": "9d2264e5",
   "metadata": {},
   "outputs": [],
   "source": [
    "expr0=sp.sympify((data['expr0'].iloc[0]))\n",
    "expr1=sp.sympify((data['expr1'].iloc[0]))\n",
    "expr2=sp.sympify((data['expr2'].iloc[0]))\n",
    "# zero expression coefficients if its<0.02\n",
    "expr0 = expr_round(expr0, threshold=0.02)\n",
    "expr1 = expr_round(expr1, threshold=0.02)\n",
    "expr2 = expr_round(expr2, threshold=0.02)"
   ]
  },
  {
   "cell_type": "code",
   "execution_count": 26,
   "id": "69a447e2",
   "metadata": {},
   "outputs": [
    {
     "data": {
      "text/latex": [
       "$\\displaystyle \\frac{0.09 x_{1}^{2.0}}{x_{0}^{1.0}} - 0.65 x_{1}$"
      ],
      "text/plain": [
       "0.09*x_1**2.0/x_0**1.0 - 0.65*x_1"
      ]
     },
     "execution_count": 26,
     "metadata": {},
     "output_type": "execute_result"
    }
   ],
   "source": [
    "expr0"
   ]
  },
  {
   "cell_type": "code",
   "execution_count": 27,
   "id": "8cd5e717",
   "metadata": {},
   "outputs": [
    {
     "data": {
      "text/latex": [
       "$\\displaystyle \\frac{0.05 x_{1}^{2.0}}{x_{0}^{1.0}} - 1.4 x_{1}$"
      ],
      "text/plain": [
       "0.05*x_1**2.0/x_0**1.0 - 1.4*x_1"
      ]
     },
     "execution_count": 27,
     "metadata": {},
     "output_type": "execute_result"
    }
   ],
   "source": [
    "expr1"
   ]
  },
  {
   "cell_type": "code",
   "execution_count": 28,
   "id": "c682af22",
   "metadata": {},
   "outputs": [
    {
     "data": {
      "text/latex": [
       "$\\displaystyle - \\frac{0.04 x_{1}^{2.0}}{x_{0}^{1.0}} - 0.75 x_{1}$"
      ],
      "text/plain": [
       "-0.04*x_1**2.0/x_0**1.0 - 0.75*x_1"
      ]
     },
     "execution_count": 28,
     "metadata": {},
     "output_type": "execute_result"
    }
   ],
   "source": [
    "expr2"
   ]
  }
 ],
 "metadata": {
  "kernelspec": {
   "display_name": "torch",
   "language": "python",
   "name": "python3"
  },
  "language_info": {
   "codemirror_mode": {
    "name": "ipython",
    "version": 3
   },
   "file_extension": ".py",
   "mimetype": "text/x-python",
   "name": "python",
   "nbconvert_exporter": "python",
   "pygments_lexer": "ipython3",
   "version": "3.11.9"
  }
 },
 "nbformat": 4,
 "nbformat_minor": 5
}
