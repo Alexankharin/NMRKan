{
 "cells": [
  {
   "cell_type": "code",
   "execution_count": 1,
   "id": "914007eb",
   "metadata": {},
   "outputs": [
    {
     "name": "stdout",
     "output_type": "stream",
     "text": [
      "Saved 1681 samples to KAN_dataset_reduced.csv\n"
     ]
    }
   ],
   "source": [
    "import numpy as np\n",
    "import matplotlib.pyplot as plt\n",
    "from matplotlib import cm\n",
    "import seaborn as sns\n",
    "from data_generator import ham_reduced_symmetric, compute_transition_frequency, ham_reduced_antisymmetric, HMatrixIdealized\n",
    "from scipy.linalg import eigh"
   ]
  },
  {
   "cell_type": "code",
   "execution_count": 26,
   "id": "8f627d76",
   "metadata": {},
   "outputs": [],
   "source": [
    "def get_ham_simple(Jintra, deltaJ):\n",
    "    \"\"\"\n",
    "    Generates the Hamiltonian matrix for a simple system with given parameters.\n",
    "    \n",
    "    Parameters:\n",
    "    Jintra (float): Intra-molecular coupling constant.\n",
    "    deltaJ (float): Energy difference between states.\n",
    "    \n",
    "    Returns:\n",
    "    np.ndarray: Hamiltonian matrix.\n",
    "    \"\"\"\n",
    "    JAA=JMM=JXX=Jintra\n",
    "    JMA=JMX=deltaJ\n",
    "    JAX=0\n",
    "    matrix=ham_reduced_symmetric(JAA, JMM, JXX, JMA, JMX, JAX)\n",
    "    return matrix\n",
    "\n",
    "def get_levels(matrix):\n",
    "    \"\"\"\n",
    "    Computes the eigenvalues and eigenvectors of the Hamiltonian matrix.\n",
    "    \n",
    "    Parameters:\n",
    "    matrix (np.ndarray): Hamiltonian matrix.\n",
    "    \n",
    "    Returns:\n",
    "    tuple: Eigenvalues and eigenvectors.\n",
    "    \"\"\"\n",
    "    evals, evecs = eigh(matrix)\n",
    "    levels=evals[evals>1e-8]\n",
    "    levels.sort()\n",
    "    # get all paired level differences using itertools\n",
    "    energies=[]\n",
    "    for i in range(len(levels)):\n",
    "         for j in range(i+1, len(levels)):\n",
    "            energies.append(levels[j]-levels[i])\n",
    "    return energies"
   ]
  },
  {
   "cell_type": "code",
   "execution_count": 27,
   "id": "19e166d1",
   "metadata": {},
   "outputs": [
    {
     "data": {
      "text/plain": [
       "[0.07045935237002343, 0.14141870473879603, 0.0709593523687726]"
      ]
     },
     "execution_count": 27,
     "metadata": {},
     "output_type": "execute_result"
    }
   ],
   "source": [
    "J_intra=-5.0\n",
    "deltaJ=-0.1\n",
    "matrix=get_ham_simple(J_intra, deltaJ)\n",
    "energies=get_levels(matrix)\n",
    "energies"
   ]
  }
 ],
 "metadata": {
  "kernelspec": {
   "display_name": "pytorch",
   "language": "python",
   "name": "python3"
  },
  "language_info": {
   "codemirror_mode": {
    "name": "ipython",
    "version": 3
   },
   "file_extension": ".py",
   "mimetype": "text/x-python",
   "name": "python",
   "nbconvert_exporter": "python",
   "pygments_lexer": "ipython3",
   "version": "3.12.3"
  }
 },
 "nbformat": 4,
 "nbformat_minor": 5
}
